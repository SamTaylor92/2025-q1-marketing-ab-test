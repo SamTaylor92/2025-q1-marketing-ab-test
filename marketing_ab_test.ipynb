{
 "cells": [
  {
   "cell_type": "markdown",
   "metadata": {},
   "source": [
    "# Marketing A/B Testing"
   ]
  },
  {
   "cell_type": "markdown",
   "metadata": {},
   "source": [
    "Presentation slides:\n",
    "- https://docs.google.com/presentation/d/1POkoPpT-aI3VVVqPBBu3gfIOAySIEPgp3Cg-2iCyNI4/edit#slide=id.g33e85632fb6_0_665"
   ]
  },
  {
   "cell_type": "markdown",
   "metadata": {},
   "source": [
    "## 1. About the Dataset\n",
    "\n",
    "<h3> 1.1. Marketing A/B testing dataset </h3>\n",
    "\n",
    "Marketing companies want to run successful campaigns, but the market is complex and several options can work. So normally they tun A/B tests, that is a randomized experimentation process wherein two or more versions of a variable (web page, page element, banner, etc.) are shown to different segments of people at the same time to determine which version leaves the maximum impact and drive business metrics.\n",
    "\n",
    "The companies are interested in answering two questions:\n",
    "\n",
    "- Would the campaign be successful?\n",
    "- If the campaign was successful, how much of that success could be attributed to the ads?\n",
    "\n",
    "With the second question in mind, we normally do an A/B test. The majority of the people will be exposed to ads (the experimental group). And a small portion of people (the control group) would instead see a Public Service Announcement (PSA) (or nothing) in the exact size and place the ad would normally be.\n",
    "\n",
    "The idea of the dataset is to analyze the groups, find if the ads were successful, how much the company can make from the ads, and if the difference between the groups is statistically significant."
   ]
  },
  {
   "cell_type": "markdown",
   "metadata": {},
   "source": [
    "<h3> 1.2. Data dictionary </h3>\n",
    "\n",
    "- **Index**: Row index\n",
    "- **user id**: User ID (unique)\n",
    "- **test group**: If \"ad\" the person saw the advertisement, if \"psa\" they only saw the public service announcement\n",
    "- **converted**: If a person bought the product then True, else is False\n",
    "- **total ads**: Amount of ads seen by person\n",
    "- **most ads day**: Day that the person saw the biggest amount of ads\n",
    "- **most ads hour**: Hour of day that the person saw the biggest amount of ads"
   ]
  },
  {
   "cell_type": "markdown",
   "metadata": {},
   "source": [
    "<h3> 1.3. References </h3>\n",
    "\n",
    "- Boslaugh, S. (2012) Statistics in a Nutshell: A Desktop Quick Reference. 2nd edn. Sebastopol, CA: O'Reilly Media, pp. 127–130, 273–279, 312, 367–379.\n",
    "- Faviovázquez. (20 Oct 2021). [Marketing A/B Testing](https://www.kaggle.com/datasets/faviovaz/marketing-ab-testing/data). Last accessed: 02 March 2025\n",
    "- Six Sigma Pro SMART. (29 Dec 2023). [Complete guide to hands-on A/B Testing | A/B testing in Python | All that you need to know](https://www.youtube.com/watch?v=AQC7b68H7LU). Last accessed: 02 March 2025"
   ]
  },
  {
   "cell_type": "markdown",
   "metadata": {},
   "source": [
    "## 2. Import | Libraries & data"
   ]
  },
  {
   "cell_type": "code",
   "execution_count": 1,
   "metadata": {},
   "outputs": [],
   "source": [
    "import numpy as np\n",
    "import pandas as pd\n",
    "from scipy import stats\n",
    "from scipy.stats import chi2_contingency\n",
    "import matplotlib.pyplot as plt\n",
    "import seaborn as sns\n",
    "\n",
    "import kagglehub\n",
    "from kagglehub import KaggleDatasetAdapter\n",
    "\n",
    "import warnings\n",
    "warnings.filterwarnings('ignore')"
   ]
  },
  {
   "cell_type": "code",
   "execution_count": 2,
   "metadata": {},
   "outputs": [],
   "source": [
    "# Load data from Kaggle\n",
    "file_path = \"marketing_AB.csv\"\n",
    "\n",
    "df = kagglehub.load_dataset(\n",
    "  KaggleDatasetAdapter.PANDAS,\n",
    "  \"faviovaz/marketing-ab-testing\",\n",
    "  file_path\n",
    ")"
   ]
  },
  {
   "cell_type": "markdown",
   "metadata": {},
   "source": [
    "<h2> 3. Explore Data </h2>"
   ]
  },
  {
   "cell_type": "code",
   "execution_count": 3,
   "metadata": {},
   "outputs": [
    {
     "data": {
      "text/html": [
       "<div>\n",
       "<style scoped>\n",
       "    .dataframe tbody tr th:only-of-type {\n",
       "        vertical-align: middle;\n",
       "    }\n",
       "\n",
       "    .dataframe tbody tr th {\n",
       "        vertical-align: top;\n",
       "    }\n",
       "\n",
       "    .dataframe thead th {\n",
       "        text-align: right;\n",
       "    }\n",
       "</style>\n",
       "<table border=\"1\" class=\"dataframe\">\n",
       "  <thead>\n",
       "    <tr style=\"text-align: right;\">\n",
       "      <th></th>\n",
       "      <th>Unnamed: 0</th>\n",
       "      <th>user id</th>\n",
       "      <th>test group</th>\n",
       "      <th>converted</th>\n",
       "      <th>total ads</th>\n",
       "      <th>most ads day</th>\n",
       "      <th>most ads hour</th>\n",
       "    </tr>\n",
       "  </thead>\n",
       "  <tbody>\n",
       "    <tr>\n",
       "      <th>0</th>\n",
       "      <td>0</td>\n",
       "      <td>1069124</td>\n",
       "      <td>ad</td>\n",
       "      <td>False</td>\n",
       "      <td>130</td>\n",
       "      <td>Monday</td>\n",
       "      <td>20</td>\n",
       "    </tr>\n",
       "    <tr>\n",
       "      <th>1</th>\n",
       "      <td>1</td>\n",
       "      <td>1119715</td>\n",
       "      <td>ad</td>\n",
       "      <td>False</td>\n",
       "      <td>93</td>\n",
       "      <td>Tuesday</td>\n",
       "      <td>22</td>\n",
       "    </tr>\n",
       "    <tr>\n",
       "      <th>2</th>\n",
       "      <td>2</td>\n",
       "      <td>1144181</td>\n",
       "      <td>ad</td>\n",
       "      <td>False</td>\n",
       "      <td>21</td>\n",
       "      <td>Tuesday</td>\n",
       "      <td>18</td>\n",
       "    </tr>\n",
       "    <tr>\n",
       "      <th>3</th>\n",
       "      <td>3</td>\n",
       "      <td>1435133</td>\n",
       "      <td>ad</td>\n",
       "      <td>False</td>\n",
       "      <td>355</td>\n",
       "      <td>Tuesday</td>\n",
       "      <td>10</td>\n",
       "    </tr>\n",
       "    <tr>\n",
       "      <th>4</th>\n",
       "      <td>4</td>\n",
       "      <td>1015700</td>\n",
       "      <td>ad</td>\n",
       "      <td>False</td>\n",
       "      <td>276</td>\n",
       "      <td>Friday</td>\n",
       "      <td>14</td>\n",
       "    </tr>\n",
       "  </tbody>\n",
       "</table>\n",
       "</div>"
      ],
      "text/plain": [
       "   Unnamed: 0  user id test group  converted  total ads most ads day  \\\n",
       "0           0  1069124         ad      False        130       Monday   \n",
       "1           1  1119715         ad      False         93      Tuesday   \n",
       "2           2  1144181         ad      False         21      Tuesday   \n",
       "3           3  1435133         ad      False        355      Tuesday   \n",
       "4           4  1015700         ad      False        276       Friday   \n",
       "\n",
       "   most ads hour  \n",
       "0             20  \n",
       "1             22  \n",
       "2             18  \n",
       "3             10  \n",
       "4             14  "
      ]
     },
     "execution_count": 3,
     "metadata": {},
     "output_type": "execute_result"
    }
   ],
   "source": [
    "# Check raw dataset\n",
    " \n",
    "df.head()"
   ]
  },
  {
   "cell_type": "code",
   "execution_count": 4,
   "metadata": {},
   "outputs": [
    {
     "data": {
      "text/html": [
       "<div>\n",
       "<style scoped>\n",
       "    .dataframe tbody tr th:only-of-type {\n",
       "        vertical-align: middle;\n",
       "    }\n",
       "\n",
       "    .dataframe tbody tr th {\n",
       "        vertical-align: top;\n",
       "    }\n",
       "\n",
       "    .dataframe thead th {\n",
       "        text-align: right;\n",
       "    }\n",
       "</style>\n",
       "<table border=\"1\" class=\"dataframe\">\n",
       "  <thead>\n",
       "    <tr style=\"text-align: right;\">\n",
       "      <th></th>\n",
       "      <th>Unnamed: 0</th>\n",
       "      <th>user id</th>\n",
       "      <th>total ads</th>\n",
       "      <th>most ads hour</th>\n",
       "    </tr>\n",
       "  </thead>\n",
       "  <tbody>\n",
       "    <tr>\n",
       "      <th>count</th>\n",
       "      <td>588101.0</td>\n",
       "      <td>588101.0</td>\n",
       "      <td>588101.0</td>\n",
       "      <td>588101.0</td>\n",
       "    </tr>\n",
       "    <tr>\n",
       "      <th>mean</th>\n",
       "      <td>294050.0</td>\n",
       "      <td>1310692.2</td>\n",
       "      <td>24.8</td>\n",
       "      <td>14.5</td>\n",
       "    </tr>\n",
       "    <tr>\n",
       "      <th>std</th>\n",
       "      <td>169770.3</td>\n",
       "      <td>202226.0</td>\n",
       "      <td>43.7</td>\n",
       "      <td>4.8</td>\n",
       "    </tr>\n",
       "    <tr>\n",
       "      <th>min</th>\n",
       "      <td>0.0</td>\n",
       "      <td>900000.0</td>\n",
       "      <td>1.0</td>\n",
       "      <td>0.0</td>\n",
       "    </tr>\n",
       "    <tr>\n",
       "      <th>25%</th>\n",
       "      <td>147025.0</td>\n",
       "      <td>1143190.0</td>\n",
       "      <td>4.0</td>\n",
       "      <td>11.0</td>\n",
       "    </tr>\n",
       "    <tr>\n",
       "      <th>50%</th>\n",
       "      <td>294050.0</td>\n",
       "      <td>1313725.0</td>\n",
       "      <td>13.0</td>\n",
       "      <td>14.0</td>\n",
       "    </tr>\n",
       "    <tr>\n",
       "      <th>75%</th>\n",
       "      <td>441075.0</td>\n",
       "      <td>1484088.0</td>\n",
       "      <td>27.0</td>\n",
       "      <td>18.0</td>\n",
       "    </tr>\n",
       "    <tr>\n",
       "      <th>max</th>\n",
       "      <td>588100.0</td>\n",
       "      <td>1654483.0</td>\n",
       "      <td>2065.0</td>\n",
       "      <td>23.0</td>\n",
       "    </tr>\n",
       "  </tbody>\n",
       "</table>\n",
       "</div>"
      ],
      "text/plain": [
       "       Unnamed: 0    user id  total ads  most ads hour\n",
       "count    588101.0   588101.0   588101.0       588101.0\n",
       "mean     294050.0  1310692.2       24.8           14.5\n",
       "std      169770.3   202226.0       43.7            4.8\n",
       "min           0.0   900000.0        1.0            0.0\n",
       "25%      147025.0  1143190.0        4.0           11.0\n",
       "50%      294050.0  1313725.0       13.0           14.0\n",
       "75%      441075.0  1484088.0       27.0           18.0\n",
       "max      588100.0  1654483.0     2065.0           23.0"
      ]
     },
     "execution_count": 4,
     "metadata": {},
     "output_type": "execute_result"
    }
   ],
   "source": [
    "# Summary statistics \n",
    "\n",
    "df.describe().round(1)"
   ]
  },
  {
   "cell_type": "code",
   "execution_count": 5,
   "metadata": {},
   "outputs": [
    {
     "data": {
      "text/plain": [
       "Unnamed: 0        int64\n",
       "user id           int64\n",
       "test group       object\n",
       "converted          bool\n",
       "total ads         int64\n",
       "most ads day     object\n",
       "most ads hour     int64\n",
       "dtype: object"
      ]
     },
     "execution_count": 5,
     "metadata": {},
     "output_type": "execute_result"
    }
   ],
   "source": [
    "# Data types \n",
    "\n",
    "df.dtypes"
   ]
  },
  {
   "cell_type": "code",
   "execution_count": 6,
   "metadata": {},
   "outputs": [
    {
     "data": {
      "text/plain": [
       "Unnamed: 0       588101\n",
       "user id          588101\n",
       "test group            2\n",
       "converted             2\n",
       "total ads           807\n",
       "most ads day          7\n",
       "most ads hour        24\n",
       "dtype: int64"
      ]
     },
     "execution_count": 6,
     "metadata": {},
     "output_type": "execute_result"
    }
   ],
   "source": [
    "# All columns seem to be categorical in type except total adds\n",
    "## test_group = psa | ad\n",
    "## converted = true | false\n",
    "## most ads day = day of week\n",
    "## most ads hour = hour of day\n",
    "\n",
    "df.nunique()"
   ]
  },
  {
   "cell_type": "code",
   "execution_count": 7,
   "metadata": {},
   "outputs": [
    {
     "name": "stdout",
     "output_type": "stream",
     "text": [
      "['ad' 'psa']\n",
      "[False  True]\n",
      "['Monday' 'Tuesday' 'Friday' 'Saturday' 'Wednesday' 'Sunday' 'Thursday']\n",
      "[0, 1, 2, 3, 4, 5, 6, 7, 8, 9, 10, 11, 12, 13, 14, 15, 16, 17, 18, 19, 20, 21, 22, 23]\n"
     ]
    }
   ],
   "source": [
    "# Check unique categorical choices for each column\n",
    "## Are they unique? (yes)\n",
    "## Do they make sense? (yes)\n",
    "\n",
    "print(df[\"test group\"].unique())\n",
    "\n",
    "print(df[\"converted\"].unique())\n",
    "\n",
    "print(df[\"most ads day\"].unique())\n",
    "\n",
    "print(sorted(df[\"most ads hour\"].unique()))"
   ]
  },
  {
   "cell_type": "code",
   "execution_count": 8,
   "metadata": {},
   "outputs": [
    {
     "name": "stdout",
     "output_type": "stream",
     "text": [
      "Total duplicate rows: 0\n",
      "Empty DataFrame\n",
      "Columns: [Unnamed: 0, user id, test group, converted, total ads, most ads day, most ads hour]\n",
      "Index: []\n"
     ]
    }
   ],
   "source": [
    "# Check for duplicate rows (across all columns per row)\n",
    "## There are none. No action needed.\n",
    "\n",
    "print(f\"Total duplicate rows: {df.duplicated().sum()}\")\n",
    "print(df[df.duplicated(keep=False)])"
   ]
  },
  {
   "cell_type": "code",
   "execution_count": 9,
   "metadata": {},
   "outputs": [
    {
     "data": {
      "text/plain": [
       "0"
      ]
     },
     "execution_count": 9,
     "metadata": {},
     "output_type": "execute_result"
    }
   ],
   "source": [
    "# Check if there are any duplicated users\n",
    "## No duplicate users, so we can drop this.\n",
    "\n",
    "df.duplicated(subset=\"user id\").sum()"
   ]
  },
  {
   "cell_type": "markdown",
   "metadata": {},
   "source": [
    "<h2> 4. Clean data </h2>"
   ]
  },
  {
   "cell_type": "markdown",
   "metadata": {},
   "source": [
    "<h3> 4.1. Drop unneeded columns </h3>"
   ]
  },
  {
   "cell_type": "code",
   "execution_count": 10,
   "metadata": {},
   "outputs": [
    {
     "data": {
      "text/html": [
       "<div>\n",
       "<style scoped>\n",
       "    .dataframe tbody tr th:only-of-type {\n",
       "        vertical-align: middle;\n",
       "    }\n",
       "\n",
       "    .dataframe tbody tr th {\n",
       "        vertical-align: top;\n",
       "    }\n",
       "\n",
       "    .dataframe thead th {\n",
       "        text-align: right;\n",
       "    }\n",
       "</style>\n",
       "<table border=\"1\" class=\"dataframe\">\n",
       "  <thead>\n",
       "    <tr style=\"text-align: right;\">\n",
       "      <th></th>\n",
       "      <th>user id</th>\n",
       "      <th>test group</th>\n",
       "      <th>converted</th>\n",
       "      <th>total ads</th>\n",
       "      <th>most ads day</th>\n",
       "      <th>most ads hour</th>\n",
       "    </tr>\n",
       "  </thead>\n",
       "  <tbody>\n",
       "    <tr>\n",
       "      <th>0</th>\n",
       "      <td>1069124</td>\n",
       "      <td>ad</td>\n",
       "      <td>False</td>\n",
       "      <td>130</td>\n",
       "      <td>Monday</td>\n",
       "      <td>20</td>\n",
       "    </tr>\n",
       "    <tr>\n",
       "      <th>1</th>\n",
       "      <td>1119715</td>\n",
       "      <td>ad</td>\n",
       "      <td>False</td>\n",
       "      <td>93</td>\n",
       "      <td>Tuesday</td>\n",
       "      <td>22</td>\n",
       "    </tr>\n",
       "    <tr>\n",
       "      <th>2</th>\n",
       "      <td>1144181</td>\n",
       "      <td>ad</td>\n",
       "      <td>False</td>\n",
       "      <td>21</td>\n",
       "      <td>Tuesday</td>\n",
       "      <td>18</td>\n",
       "    </tr>\n",
       "    <tr>\n",
       "      <th>3</th>\n",
       "      <td>1435133</td>\n",
       "      <td>ad</td>\n",
       "      <td>False</td>\n",
       "      <td>355</td>\n",
       "      <td>Tuesday</td>\n",
       "      <td>10</td>\n",
       "    </tr>\n",
       "    <tr>\n",
       "      <th>4</th>\n",
       "      <td>1015700</td>\n",
       "      <td>ad</td>\n",
       "      <td>False</td>\n",
       "      <td>276</td>\n",
       "      <td>Friday</td>\n",
       "      <td>14</td>\n",
       "    </tr>\n",
       "  </tbody>\n",
       "</table>\n",
       "</div>"
      ],
      "text/plain": [
       "   user id test group  converted  total ads most ads day  most ads hour\n",
       "0  1069124         ad      False        130       Monday             20\n",
       "1  1119715         ad      False         93      Tuesday             22\n",
       "2  1144181         ad      False         21      Tuesday             18\n",
       "3  1435133         ad      False        355      Tuesday             10\n",
       "4  1015700         ad      False        276       Friday             14"
      ]
     },
     "execution_count": 10,
     "metadata": {},
     "output_type": "execute_result"
    }
   ],
   "source": [
    "# Drop index column\n",
    "## It has no value\n",
    "\n",
    "df.drop(\"Unnamed: 0\",axis=1,inplace=True)\n",
    "df.head()"
   ]
  },
  {
   "cell_type": "code",
   "execution_count": 11,
   "metadata": {},
   "outputs": [
    {
     "data": {
      "text/html": [
       "<div>\n",
       "<style scoped>\n",
       "    .dataframe tbody tr th:only-of-type {\n",
       "        vertical-align: middle;\n",
       "    }\n",
       "\n",
       "    .dataframe tbody tr th {\n",
       "        vertical-align: top;\n",
       "    }\n",
       "\n",
       "    .dataframe thead th {\n",
       "        text-align: right;\n",
       "    }\n",
       "</style>\n",
       "<table border=\"1\" class=\"dataframe\">\n",
       "  <thead>\n",
       "    <tr style=\"text-align: right;\">\n",
       "      <th></th>\n",
       "      <th>test group</th>\n",
       "      <th>converted</th>\n",
       "      <th>total ads</th>\n",
       "      <th>most ads day</th>\n",
       "      <th>most ads hour</th>\n",
       "    </tr>\n",
       "  </thead>\n",
       "  <tbody>\n",
       "    <tr>\n",
       "      <th>0</th>\n",
       "      <td>ad</td>\n",
       "      <td>False</td>\n",
       "      <td>130</td>\n",
       "      <td>Monday</td>\n",
       "      <td>20</td>\n",
       "    </tr>\n",
       "    <tr>\n",
       "      <th>1</th>\n",
       "      <td>ad</td>\n",
       "      <td>False</td>\n",
       "      <td>93</td>\n",
       "      <td>Tuesday</td>\n",
       "      <td>22</td>\n",
       "    </tr>\n",
       "    <tr>\n",
       "      <th>2</th>\n",
       "      <td>ad</td>\n",
       "      <td>False</td>\n",
       "      <td>21</td>\n",
       "      <td>Tuesday</td>\n",
       "      <td>18</td>\n",
       "    </tr>\n",
       "    <tr>\n",
       "      <th>3</th>\n",
       "      <td>ad</td>\n",
       "      <td>False</td>\n",
       "      <td>355</td>\n",
       "      <td>Tuesday</td>\n",
       "      <td>10</td>\n",
       "    </tr>\n",
       "    <tr>\n",
       "      <th>4</th>\n",
       "      <td>ad</td>\n",
       "      <td>False</td>\n",
       "      <td>276</td>\n",
       "      <td>Friday</td>\n",
       "      <td>14</td>\n",
       "    </tr>\n",
       "  </tbody>\n",
       "</table>\n",
       "</div>"
      ],
      "text/plain": [
       "  test group  converted  total ads most ads day  most ads hour\n",
       "0         ad      False        130       Monday             20\n",
       "1         ad      False         93      Tuesday             22\n",
       "2         ad      False         21      Tuesday             18\n",
       "3         ad      False        355      Tuesday             10\n",
       "4         ad      False        276       Friday             14"
      ]
     },
     "execution_count": 11,
     "metadata": {},
     "output_type": "execute_result"
    }
   ],
   "source": [
    "# Drop user id column\n",
    "## As there are no duplicates user_id, this field doesn't bring us any extra value.\n",
    "## The value lies in the test group and whether they were converted or not\n",
    "\n",
    "df.drop(\"user id\",axis=1,inplace=True)\n",
    "df.head()"
   ]
  },
  {
   "cell_type": "markdown",
   "metadata": {},
   "source": [
    "<h2> 5. Visualisation </h2>"
   ]
  },
  {
   "cell_type": "code",
   "execution_count": 12,
   "metadata": {},
   "outputs": [
    {
     "data": {
      "image/png": "[encoded data removed]",
      "text/plain": [
       "<Figure size 800x600 with 1 Axes>"
      ]
     },
     "metadata": {},
     "output_type": "display_data"
    }
   ],
   "source": [
    "# [Univariate] TEST GROUP\n",
    "\n",
    "category = \"test group\"\n",
    "\n",
    "# Set the figure size\n",
    "plt.figure(figsize=(8, 6))\n",
    "\n",
    "total = len(df)  # Total number of rows\n",
    "ax = sns.countplot(data=df, x=category, palette='pastel')\n",
    "\n",
    "# Annotate bars with percentages\n",
    "for p in ax.patches:\n",
    "    percentage = f\"{100 * p.get_height() / total:.1f}%\"  # Format percentage\n",
    "    ax.annotate(percentage, (p.get_x() + p.get_width() / 2, p.get_height()), \n",
    "                ha='center', va='bottom', fontsize=12, color='black')"
   ]
  },
  {
   "cell_type": "code",
   "execution_count": 13,
   "metadata": {},
   "outputs": [
    {
     "data": {
      "text/html": [
       "<div>\n",
       "<style scoped>\n",
       "    .dataframe tbody tr th:only-of-type {\n",
       "        vertical-align: middle;\n",
       "    }\n",
       "\n",
       "    .dataframe tbody tr th {\n",
       "        vertical-align: top;\n",
       "    }\n",
       "\n",
       "    .dataframe thead th {\n",
       "        text-align: right;\n",
       "    }\n",
       "</style>\n",
       "<table border=\"1\" class=\"dataframe\">\n",
       "  <thead>\n",
       "    <tr style=\"text-align: right;\">\n",
       "      <th>converted</th>\n",
       "      <th>False</th>\n",
       "      <th>True</th>\n",
       "    </tr>\n",
       "    <tr>\n",
       "      <th>test group</th>\n",
       "      <th></th>\n",
       "      <th></th>\n",
       "    </tr>\n",
       "  </thead>\n",
       "  <tbody>\n",
       "    <tr>\n",
       "      <th>ad</th>\n",
       "      <td>0.974453</td>\n",
       "      <td>0.025547</td>\n",
       "    </tr>\n",
       "    <tr>\n",
       "      <th>psa</th>\n",
       "      <td>0.982146</td>\n",
       "      <td>0.017854</td>\n",
       "    </tr>\n",
       "  </tbody>\n",
       "</table>\n",
       "</div>"
      ],
      "text/plain": [
       "converted      False     True \n",
       "test group                    \n",
       "ad          0.974453  0.025547\n",
       "psa         0.982146  0.017854"
      ]
     },
     "execution_count": 13,
     "metadata": {},
     "output_type": "execute_result"
    }
   ],
   "source": [
    "# [Tabular] TEST GROUP vs. CONVERTED \n",
    "\n",
    "category = \"test group\"\n",
    "\n",
    "# Create a crosstab with counts\n",
    "ct_test_group = pd.crosstab(df[category],df[\"converted\"],normalize='index')\n",
    "\n",
    "# Display the crosstab\n",
    "ct_test_group\n"
   ]
  },
  {
   "cell_type": "code",
   "execution_count": 14,
   "metadata": {},
   "outputs": [
    {
     "data": {
      "text/plain": [
       "<Axes: xlabel='test group'>"
      ]
     },
     "execution_count": 14,
     "metadata": {},
     "output_type": "execute_result"
    },
    {
     "data": {
      "image/png": "[encoded data removed]",
      "text/plain": [
       "<Figure size 640x480 with 1 Axes>"
      ]
     },
     "metadata": {},
     "output_type": "display_data"
    }
   ],
   "source": [
    "# [Graph] TEST GROUP vs. CONVERTED\n",
    "ct_test_group.plot.bar(stacked=True)"
   ]
  },
  {
   "cell_type": "code",
   "execution_count": 15,
   "metadata": {},
   "outputs": [
    {
     "data": {
      "image/png": "[encoded data removed]",
      "text/plain": [
       "<Figure size 800x600 with 1 Axes>"
      ]
     },
     "metadata": {},
     "output_type": "display_data"
    }
   ],
   "source": [
    "# [Univariate] CONVERTED\n",
    "\n",
    "category = \"converted\"\n",
    "\n",
    "# Set the figure size\n",
    "plt.figure(figsize=(8, 6))\n",
    "\n",
    "total = len(df)  # Total number of rows\n",
    "ax = sns.countplot(data=df, x=category, palette='pastel')\n",
    "\n",
    "# Annotate bars with percentages\n",
    "for p in ax.patches:\n",
    "    percentage = f\"{100 * p.get_height() / total:.1f}%\"  # Format percentage\n",
    "    ax.annotate(percentage, (p.get_x() + p.get_width() / 2, p.get_height()), \n",
    "                ha='center', va='bottom', fontsize=12, color='black')"
   ]
  },
  {
   "cell_type": "code",
   "execution_count": 16,
   "metadata": {},
   "outputs": [
    {
     "data": {
      "text/html": [
       "<div>\n",
       "<style scoped>\n",
       "    .dataframe tbody tr th:only-of-type {\n",
       "        vertical-align: middle;\n",
       "    }\n",
       "\n",
       "    .dataframe tbody tr th {\n",
       "        vertical-align: top;\n",
       "    }\n",
       "\n",
       "    .dataframe thead th {\n",
       "        text-align: right;\n",
       "    }\n",
       "</style>\n",
       "<table border=\"1\" class=\"dataframe\">\n",
       "  <thead>\n",
       "    <tr style=\"text-align: right;\">\n",
       "      <th>converted</th>\n",
       "      <th>False</th>\n",
       "      <th>True</th>\n",
       "    </tr>\n",
       "    <tr>\n",
       "      <th>converted</th>\n",
       "      <th></th>\n",
       "      <th></th>\n",
       "    </tr>\n",
       "  </thead>\n",
       "  <tbody>\n",
       "    <tr>\n",
       "      <th>False</th>\n",
       "      <td>0.974761</td>\n",
       "      <td>0.000000</td>\n",
       "    </tr>\n",
       "    <tr>\n",
       "      <th>True</th>\n",
       "      <td>0.000000</td>\n",
       "      <td>0.025239</td>\n",
       "    </tr>\n",
       "  </tbody>\n",
       "</table>\n",
       "</div>"
      ],
      "text/plain": [
       "converted     False     True \n",
       "converted                    \n",
       "False      0.974761  0.000000\n",
       "True       0.000000  0.025239"
      ]
     },
     "execution_count": 16,
     "metadata": {},
     "output_type": "execute_result"
    }
   ],
   "source": [
    "# [Tabular] CONVERTED vs. CONVERTED\n",
    "category = \"converted\"\n",
    "\n",
    "# Create a crosstab with counts\n",
    "ct_converted = pd.crosstab(df[category],df[\"converted\"],normalize=True)\n",
    "\n",
    "# Display the crosstab\n",
    "ct_converted\n"
   ]
  },
  {
   "cell_type": "code",
   "execution_count": 17,
   "metadata": {},
   "outputs": [
    {
     "data": {
      "text/plain": [
       "<Axes: xlabel='converted'>"
      ]
     },
     "execution_count": 17,
     "metadata": {},
     "output_type": "execute_result"
    },
    {
     "data": {
      "image/png": "[encoded data removed]",
      "text/plain": [
       "<Figure size 640x480 with 1 Axes>"
      ]
     },
     "metadata": {},
     "output_type": "display_data"
    }
   ],
   "source": [
    "# [Graph] CONVERTED vs. CONVERTED\n",
    "ct_converted.plot.bar(stacked=True)"
   ]
  },
  {
   "cell_type": "code",
   "execution_count": 18,
   "metadata": {},
   "outputs": [
    {
     "data": {
      "image/png": "[encoded data removed]",
      "text/plain": [
       "<Figure size 1500x700 with 1 Axes>"
      ]
     },
     "metadata": {},
     "output_type": "display_data"
    }
   ],
   "source": [
    "# [Univariate] MOST ADS DAY \n",
    "\n",
    "category = \"most ads day\"\n",
    "\n",
    "# Set the figure size\n",
    "plt.figure(figsize=(15, 7))\n",
    "\n",
    "# Ensure the 'most ads day' column is a categorical type with the correct order\n",
    "days_order = ['Monday', 'Tuesday', 'Wednesday', 'Thursday', 'Friday', 'Saturday', 'Sunday']\n",
    "\n",
    "total = len(df)  # Total number of rows\n",
    "ax = sns.countplot(data=df, x=category, palette='pastel', order=days_order)\n",
    "\n",
    "# Annotate bars with percentages\n",
    "for p in ax.patches:\n",
    "    percentage = f\"{100 * p.get_height() / total:.1f}%\"  # Format percentage\n",
    "    ax.annotate(percentage, (p.get_x() + p.get_width() / 2, p.get_height()), \n",
    "                ha='center', va='bottom', fontsize=12, color='black')"
   ]
  },
  {
   "cell_type": "code",
   "execution_count": 19,
   "metadata": {},
   "outputs": [
    {
     "data": {
      "text/html": [
       "<div>\n",
       "<style scoped>\n",
       "    .dataframe tbody tr th:only-of-type {\n",
       "        vertical-align: middle;\n",
       "    }\n",
       "\n",
       "    .dataframe tbody tr th {\n",
       "        vertical-align: top;\n",
       "    }\n",
       "\n",
       "    .dataframe thead th {\n",
       "        text-align: right;\n",
       "    }\n",
       "</style>\n",
       "<table border=\"1\" class=\"dataframe\">\n",
       "  <thead>\n",
       "    <tr style=\"text-align: right;\">\n",
       "      <th>converted</th>\n",
       "      <th>False</th>\n",
       "      <th>True</th>\n",
       "    </tr>\n",
       "    <tr>\n",
       "      <th>most ads day</th>\n",
       "      <th></th>\n",
       "      <th></th>\n",
       "    </tr>\n",
       "  </thead>\n",
       "  <tbody>\n",
       "    <tr>\n",
       "      <th>Monday</th>\n",
       "      <td>0.967188</td>\n",
       "      <td>0.032812</td>\n",
       "    </tr>\n",
       "    <tr>\n",
       "      <th>Tuesday</th>\n",
       "      <td>0.970160</td>\n",
       "      <td>0.029840</td>\n",
       "    </tr>\n",
       "    <tr>\n",
       "      <th>Wednesday</th>\n",
       "      <td>0.975058</td>\n",
       "      <td>0.024942</td>\n",
       "    </tr>\n",
       "    <tr>\n",
       "      <th>Sunday</th>\n",
       "      <td>0.975524</td>\n",
       "      <td>0.024476</td>\n",
       "    </tr>\n",
       "    <tr>\n",
       "      <th>Friday</th>\n",
       "      <td>0.977788</td>\n",
       "      <td>0.022212</td>\n",
       "    </tr>\n",
       "    <tr>\n",
       "      <th>Thursday</th>\n",
       "      <td>0.978429</td>\n",
       "      <td>0.021571</td>\n",
       "    </tr>\n",
       "    <tr>\n",
       "      <th>Saturday</th>\n",
       "      <td>0.978949</td>\n",
       "      <td>0.021051</td>\n",
       "    </tr>\n",
       "  </tbody>\n",
       "</table>\n",
       "</div>"
      ],
      "text/plain": [
       "converted        False     True \n",
       "most ads day                    \n",
       "Monday        0.967188  0.032812\n",
       "Tuesday       0.970160  0.029840\n",
       "Wednesday     0.975058  0.024942\n",
       "Sunday        0.975524  0.024476\n",
       "Friday        0.977788  0.022212\n",
       "Thursday      0.978429  0.021571\n",
       "Saturday      0.978949  0.021051"
      ]
     },
     "execution_count": 19,
     "metadata": {},
     "output_type": "execute_result"
    }
   ],
   "source": [
    "# [Tabular] MOST ADS DAY vs. CONVERTED\n",
    "\n",
    "category = \"most ads day\"\n",
    "\n",
    "# Create a crosstab with counts\n",
    "ct_most_ads_day = pd.crosstab(df[category],df[\"converted\"],normalize= 'index')\n",
    "\n",
    "# Display the crosstab\n",
    "ct_most_ads_day.sort_values(by=True, ascending=False)"
   ]
  },
  {
   "cell_type": "code",
   "execution_count": 20,
   "metadata": {},
   "outputs": [
    {
     "data": {
      "text/plain": [
       "<Axes: xlabel='most ads day'>"
      ]
     },
     "execution_count": 20,
     "metadata": {},
     "output_type": "execute_result"
    },
    {
     "data": {
      "image/png": "[encoded data removed]",
      "text/plain": [
       "<Figure size 640x480 with 1 Axes>"
      ]
     },
     "metadata": {},
     "output_type": "display_data"
    }
   ],
   "source": [
    "# [Graph] MOST ADS DAY vs. CONVERTED\n",
    "\n",
    "ct_most_ads_day.plot.bar(stacked=True)"
   ]
  },
  {
   "cell_type": "code",
   "execution_count": 21,
   "metadata": {},
   "outputs": [
    {
     "data": {
      "image/png": "[encoded data removed]",
      "text/plain": [
       "<Figure size 1500x600 with 1 Axes>"
      ]
     },
     "metadata": {},
     "output_type": "display_data"
    }
   ],
   "source": [
    "# [Univariate] MOST ADS HOUR \n",
    "\n",
    "category = \"most ads hour\"\n",
    "\n",
    "# Set the figure size\n",
    "plt.figure(figsize=(15, 6))\n",
    "\n",
    "total = len(df)  # Total number of rows\n",
    "ax = sns.countplot(data=df, x=category, palette=\"pastel\")\n",
    "\n",
    "# Annotate bars with percentages\n",
    "for p in ax.patches:\n",
    "    percentage = f\"{100 * p.get_height() / total:.1f}%\"  # Format percentage\n",
    "    ax.annotate(percentage, (p.get_x() + p.get_width() / 2, p.get_height()), \n",
    "                ha='center', va='bottom', fontsize=12, color='black')"
   ]
  },
  {
   "cell_type": "code",
   "execution_count": 22,
   "metadata": {},
   "outputs": [
    {
     "data": {
      "text/html": [
       "<div>\n",
       "<style scoped>\n",
       "    .dataframe tbody tr th:only-of-type {\n",
       "        vertical-align: middle;\n",
       "    }\n",
       "\n",
       "    .dataframe tbody tr th {\n",
       "        vertical-align: top;\n",
       "    }\n",
       "\n",
       "    .dataframe thead th {\n",
       "        text-align: right;\n",
       "    }\n",
       "</style>\n",
       "<table border=\"1\" class=\"dataframe\">\n",
       "  <thead>\n",
       "    <tr style=\"text-align: right;\">\n",
       "      <th>converted</th>\n",
       "      <th>False</th>\n",
       "      <th>True</th>\n",
       "    </tr>\n",
       "    <tr>\n",
       "      <th>most ads hour</th>\n",
       "      <th></th>\n",
       "      <th></th>\n",
       "    </tr>\n",
       "  </thead>\n",
       "  <tbody>\n",
       "    <tr>\n",
       "      <th>16</th>\n",
       "      <td>0.969228</td>\n",
       "      <td>0.030772</td>\n",
       "    </tr>\n",
       "    <tr>\n",
       "      <th>20</th>\n",
       "      <td>0.970197</td>\n",
       "      <td>0.029803</td>\n",
       "    </tr>\n",
       "    <tr>\n",
       "      <th>15</th>\n",
       "      <td>0.970347</td>\n",
       "      <td>0.029653</td>\n",
       "    </tr>\n",
       "    <tr>\n",
       "      <th>21</th>\n",
       "      <td>0.971077</td>\n",
       "      <td>0.028923</td>\n",
       "    </tr>\n",
       "    <tr>\n",
       "      <th>17</th>\n",
       "      <td>0.971790</td>\n",
       "      <td>0.028210</td>\n",
       "    </tr>\n",
       "    <tr>\n",
       "      <th>14</th>\n",
       "      <td>0.971937</td>\n",
       "      <td>0.028063</td>\n",
       "    </tr>\n",
       "    <tr>\n",
       "      <th>18</th>\n",
       "      <td>0.972620</td>\n",
       "      <td>0.027380</td>\n",
       "    </tr>\n",
       "    <tr>\n",
       "      <th>19</th>\n",
       "      <td>0.973280</td>\n",
       "      <td>0.026720</td>\n",
       "    </tr>\n",
       "    <tr>\n",
       "      <th>22</th>\n",
       "      <td>0.973895</td>\n",
       "      <td>0.026105</td>\n",
       "    </tr>\n",
       "    <tr>\n",
       "      <th>13</th>\n",
       "      <td>0.975323</td>\n",
       "      <td>0.024677</td>\n",
       "    </tr>\n",
       "    <tr>\n",
       "      <th>12</th>\n",
       "      <td>0.976172</td>\n",
       "      <td>0.023828</td>\n",
       "    </tr>\n",
       "    <tr>\n",
       "      <th>23</th>\n",
       "      <td>0.977338</td>\n",
       "      <td>0.022662</td>\n",
       "    </tr>\n",
       "    <tr>\n",
       "      <th>6</th>\n",
       "      <td>0.977756</td>\n",
       "      <td>0.022244</td>\n",
       "    </tr>\n",
       "    <tr>\n",
       "      <th>11</th>\n",
       "      <td>0.977884</td>\n",
       "      <td>0.022116</td>\n",
       "    </tr>\n",
       "    <tr>\n",
       "      <th>10</th>\n",
       "      <td>0.978479</td>\n",
       "      <td>0.021521</td>\n",
       "    </tr>\n",
       "    <tr>\n",
       "      <th>5</th>\n",
       "      <td>0.979085</td>\n",
       "      <td>0.020915</td>\n",
       "    </tr>\n",
       "    <tr>\n",
       "      <th>8</th>\n",
       "      <td>0.980484</td>\n",
       "      <td>0.019516</td>\n",
       "    </tr>\n",
       "    <tr>\n",
       "      <th>9</th>\n",
       "      <td>0.980809</td>\n",
       "      <td>0.019191</td>\n",
       "    </tr>\n",
       "    <tr>\n",
       "      <th>0</th>\n",
       "      <td>0.981575</td>\n",
       "      <td>0.018425</td>\n",
       "    </tr>\n",
       "    <tr>\n",
       "      <th>7</th>\n",
       "      <td>0.981889</td>\n",
       "      <td>0.018111</td>\n",
       "    </tr>\n",
       "    <tr>\n",
       "      <th>4</th>\n",
       "      <td>0.984765</td>\n",
       "      <td>0.015235</td>\n",
       "    </tr>\n",
       "    <tr>\n",
       "      <th>1</th>\n",
       "      <td>0.987089</td>\n",
       "      <td>0.012911</td>\n",
       "    </tr>\n",
       "    <tr>\n",
       "      <th>3</th>\n",
       "      <td>0.989548</td>\n",
       "      <td>0.010452</td>\n",
       "    </tr>\n",
       "    <tr>\n",
       "      <th>2</th>\n",
       "      <td>0.992687</td>\n",
       "      <td>0.007313</td>\n",
       "    </tr>\n",
       "  </tbody>\n",
       "</table>\n",
       "</div>"
      ],
      "text/plain": [
       "converted         False     True \n",
       "most ads hour                    \n",
       "16             0.969228  0.030772\n",
       "20             0.970197  0.029803\n",
       "15             0.970347  0.029653\n",
       "21             0.971077  0.028923\n",
       "17             0.971790  0.028210\n",
       "14             0.971937  0.028063\n",
       "18             0.972620  0.027380\n",
       "19             0.973280  0.026720\n",
       "22             0.973895  0.026105\n",
       "13             0.975323  0.024677\n",
       "12             0.976172  0.023828\n",
       "23             0.977338  0.022662\n",
       "6              0.977756  0.022244\n",
       "11             0.977884  0.022116\n",
       "10             0.978479  0.021521\n",
       "5              0.979085  0.020915\n",
       "8              0.980484  0.019516\n",
       "9              0.980809  0.019191\n",
       "0              0.981575  0.018425\n",
       "7              0.981889  0.018111\n",
       "4              0.984765  0.015235\n",
       "1              0.987089  0.012911\n",
       "3              0.989548  0.010452\n",
       "2              0.992687  0.007313"
      ]
     },
     "execution_count": 22,
     "metadata": {},
     "output_type": "execute_result"
    }
   ],
   "source": [
    "# [Tabular] ADS HOUR vs. CONVERTED\n",
    "\n",
    "# More people likely to convert at 16, 20, 15, 21, 17, 14, 18, 19, 22, 13, 12, 23, 6, 11, 10, 5 hours\n",
    "\n",
    "category = \"most ads hour\"\n",
    "\n",
    "# Create a crosstab with counts\n",
    "ct_most_ads_hour = pd.crosstab(df[category],df[\"converted\"],normalize='index')\n",
    "\n",
    "# Display the crosstab\n",
    "ct_most_ads_hour.sort_values(by=True, ascending=False)"
   ]
  },
  {
   "cell_type": "code",
   "execution_count": 23,
   "metadata": {},
   "outputs": [
    {
     "data": {
      "text/plain": [
       "<Axes: xlabel='most ads hour'>"
      ]
     },
     "execution_count": 23,
     "metadata": {},
     "output_type": "execute_result"
    },
    {
     "data": {
      "image/png": "[encoded data removed]",
      "text/plain": [
       "<Figure size 640x480 with 1 Axes>"
      ]
     },
     "metadata": {},
     "output_type": "display_data"
    }
   ],
   "source": [
    "# [Graph] ADS HOUR vs CONVERTED \n",
    "\n",
    "## Adds between 10am and 12pm seem to have the highest conversion\n",
    "### It makes sense due to the average sleep patterns\n",
    "\n",
    "ct_most_ads_hour.plot.bar(stacked=True)\n"
   ]
  },
  {
   "cell_type": "code",
   "execution_count": 24,
   "metadata": {},
   "outputs": [
    {
     "data": {
      "text/plain": [
       "<Axes: xlabel='converted', ylabel='total ads'>"
      ]
     },
     "execution_count": 24,
     "metadata": {},
     "output_type": "execute_result"
    },
    {
     "data": {
      "image/png": "[encoded data removed]",
      "text/plain": [
       "<Figure size 640x480 with 1 Axes>"
      ]
     },
     "metadata": {},
     "output_type": "display_data"
    }
   ],
   "source": [
    "# [Boxplot] Converted vs. Total adds (< 50)\n",
    "## Converted people on the whole have seen more adds (~28) than non-converted people (~10)\n",
    "## Under 50 selected to reduce skewness\n",
    "\n",
    "sns.boxplot(x=\"converted\", y=\"total ads\", data = df[df[\"total ads\"]<50])"
   ]
  },
  {
   "cell_type": "markdown",
   "metadata": {},
   "source": [
    "<h2> 6. Statistical Testing </h2>"
   ]
  },
  {
   "cell_type": "markdown",
   "metadata": {},
   "source": [
    "<h3> 6.1. A/B Test Methodology </h3>\n",
    "\n",
    "**Aim**: To run an A/B test and measure if the \"ad\" group is more likely to be converted than the \"psa\" group\n",
    "\n",
    "- **Filter the Data:** You’ll need to separate the data into two groups: one for the \"ad\" group and one for the \"psa\" group.\n",
    "- **Define the Hypothesis:**\n",
    "    - **Null Hypothesis (H0)**: There is no difference in the conversion rates between the \"ad\" and \"psa\" groups.\n",
    "    - **Alternative Hypothesis (H1)**: The \"ad\" group has a higher conversion rate than the \"psa\" group.\n",
    "- **Perform the Statistical Test**: The most common test to compare two proportions (like conversion rates) is the Chi-square test for independence or Z-test for proportions.\n",
    "- **Calculate the Conversion Rates**: You will calculate the conversion rates for both groups.\n",
    "- **Check for Statistical Significance**: You’ll then compare the p-value from the test to your significance level (typically 0.05) to determine if the difference in conversion rates is statistically significant."
   ]
  },
  {
   "cell_type": "markdown",
   "metadata": {},
   "source": [
    "<h3> 6.2. Test Group vs. Converted </h3>\n",
    "\n",
    "**Aim:** to answer our initial question. \n",
    "\n",
    "- **Question:** Was the campaign successful?\n",
    "- (**Answer:** ✅ Yes)"
   ]
  },
  {
   "cell_type": "code",
   "execution_count": 25,
   "metadata": {},
   "outputs": [
    {
     "name": "stdout",
     "output_type": "stream",
     "text": [
      "[CHAI-SQUARED TEST FOR TEST GROUP VS. CONVERTED]\n",
      "\n",
      "\u001b[1mTEST GROUP\u001b[0m\n",
      "| • Conversion rate for 'ad' group: 0.025546559636683747\n",
      "| • Conversion rate for 'psa' group: 0.01785410644448223\n",
      "| • Chi-square stat: 54.01\n",
      "| • p-value (6 decimals): 0.000000\n",
      "| • P-value: 0.00000000000019989623\n",
      "| --------------\n",
      "| ✅ SIGNIFICANT: Reject the null hypothesis. There is a significant difference in conversion rates between the 'ad' and 'psa' groups.\n",
      "| • \u001b[1mAnswers question:\u001b[0m  Does being in the ad group or PSA group impact conversion rates? \n",
      "| • \u001b[1mNull Hypothesis (H₀):\u001b[0m  Conversion rates do not differ between the test groups (ad vs. PSA). \n",
      "| • \u001b[1mAlternative Hypothesis (H₁):\u001b[0m  Conversion rates do differ between the test groups. \n",
      "| • \u001b[1mSignificant result:\u001b[0m  Means that conversion rates differ between users who saw ads and those who saw PSAs, indicating that ads likely had an impact on conversions.\n"
     ]
    }
   ],
   "source": [
    "# Step 1: Separate the groups\n",
    "ad_group = df[df['test group'] == 'ad']\n",
    "psa_group = df[df['test group'] == 'psa']\n",
    "\n",
    "# Step 2: Calculate the conversion rate for each group\n",
    "ad_conversion_rate = ad_group['converted'].mean()\n",
    "psa_conversion_rate = psa_group['converted'].mean()\n",
    "\n",
    "print(\"[CHAI-SQUARED TEST FOR TEST GROUP VS. CONVERTED]\")\n",
    "\n",
    "print(f\"\\n\\033[1mTEST GROUP\\033[0m\")\n",
    "print(f\"| • Conversion rate for 'ad' group: {ad_conversion_rate}\")\n",
    "print(f\"| • Conversion rate for 'psa' group: {psa_conversion_rate}\")\n",
    "\n",
    "# Step 3: Run a statistical test (Chi-square test)\n",
    "# First, create a contingency table of the form [ [ad_converted, ad_not_converted], [psa_converted, psa_not_converted] ]\n",
    "contingency_table = pd.crosstab(df['test group'], df['converted'])\n",
    "\n",
    "# Perform Chi-square test\n",
    "chi2_stat, p_value, dof, expected = stats.chi2_contingency(contingency_table)\n",
    "\n",
    "print(f\"| • Chi-square stat: {chi2_stat.round(2)}\")\n",
    "print(f\"| • p-value (6 decimals): {p_value:.6f}\")\n",
    "print(f\"| • P-value: {p_value:.20f}\")\n",
    "\n",
    "# Step 4: Interpret the results\n",
    "if p_value < 0.05:\n",
    "    print(\"| --------------\\n| ✅ SIGNIFICANT: Reject the null hypothesis. There is a significant difference in conversion rates between the 'ad' and 'psa' groups.\")\n",
    "    print(f\"| • \\033[1mAnswers question:\\033[0m  Does being in the ad group or PSA group impact conversion rates? \\n\"\n",
    "          f\"| • \\033[1mNull Hypothesis (H₀):\\033[0m  Conversion rates do not differ between the test groups (ad vs. PSA). \\n\"\n",
    "          f\"| • \\033[1mAlternative Hypothesis (H₁):\\033[0m  Conversion rates do differ between the test groups. \\n\"\n",
    "          f\"| • \\033[1mSignificant result:\\033[0m  Means that conversion rates differ between users who saw ads and those who saw PSAs, indicating that ads likely had an impact on conversions.\")\n",
    "else:\n",
    "    print(\"SIGNIFICANCE: ❌ Fail to reject the null hypothesis. There is no significant difference in conversion rates.\")\n"
   ]
  },
  {
   "cell_type": "markdown",
   "metadata": {},
   "source": [
    "<h4> 6.2.1. Explanation </h4>\n",
    "\n",
    "- **Data Filtering:** We filter the data into ad_group and psa_group.\n",
    "- **Conversion Rates:** The conversion rate is calculated by taking the mean of the converted column (True = 1, False = 0) for each group.\n",
    "- **Chi-square Test:** We use scipy.stats.chi2_contingency() to run a Chi-square test for independence. This test is used here because we are comparing two categorical variables (test group and conversion).\n",
    "- **Decision:** If the p-value is less than 0.05, we reject the null hypothesis and conclude that there is a significant difference in conversion rates between the two groups."
   ]
  },
  {
   "cell_type": "markdown",
   "metadata": {},
   "source": [
    "<h3> 6.3. [A/B] Categorical variables vs. Converted </h3>\n",
    "\n",
    "**Aim:** To provide greater marketing insights\n",
    "\n",
    "**Insights:** \n",
    "\n",
    "- Time of day makes a difference. Focus on the times of day that are most heavily viewed.\n",
    "    - [5, 6] Pre-working day\n",
    "    - [10, 11, 12, 13, 14, 15, 16, 17] Working day\n",
    "    - [18, 19, 20, 21, 22, 23] Post-working day\n",
    "- Day of the week makes a difference\n",
    "    - Friday > Monday > Sunday > [rest of week]"
   ]
  },
  {
   "cell_type": "code",
   "execution_count": 26,
   "metadata": {},
   "outputs": [
    {
     "name": "stdout",
     "output_type": "stream",
     "text": [
      "[CHAI-SQUARED TEST FOR EACH {VARIABLE} VS. CONVERTED]\n",
      "\n",
      "\u001b[1mTEST GROUP\u001b[0m\n",
      "| • Chi-squared value: 54.01\n",
      "| • p-value (6 decimals): 0.000000\n",
      "| • p-value: 0.000000000000199896230633900750665031738938025026257718289035558711930207209661602973937988\n",
      "| --------------\n",
      "| ✅ SIGNIFICANT: Reject the null hypothesis. There is a significant difference in conversion rates across the variable: test group\n",
      "| • \u001b[1mAnswers question:\u001b[0m  Does being in the ad group or PSA group impact conversion rates? \n",
      "| • \u001b[1mNull Hypothesis (H₀):\u001b[0m  Conversion rates do not differ between the test groups (ad vs. PSA). \n",
      "| • \u001b[1mAlternative Hypothesis (H₁):\u001b[0m  Conversion rates do differ between the test groups. \n",
      "| • \u001b[1mSignificant result:\u001b[0m  Means that conversion rates differ between users who saw ads and those who saw PSAs, indicating that ads likely had an impact on conversions.\n",
      "\n",
      "\u001b[1mMOST ADS DAY\u001b[0m\n",
      "| • Chi-squared value: 410.05\n",
      "| • p-value (6 decimals): 0.000000\n",
      "| • p-value: 0.000000000000000000000000000000000000000000000000000000000000000000000000000000000000193218\n",
      "| --------------\n",
      "| ✅ SIGNIFICANT: Reject the null hypothesis. There is a significant difference in conversion rates across the variable: most ads day\n",
      "| • \u001b[1mAnswers question:\u001b[0m  Does the day of the week where a user saw the most ads impact conversion rates? \n",
      "| • \u001b[1mNull Hypothesis (H₀):\u001b[0m  Conversion rates do not differ across days. \n",
      "| • \u001b[1mAlternative Hypothesis (H₁):\u001b[0m  Conversion rates do differ depending on the most ads day. \n",
      "| • \u001b[1mSignificant result:\u001b[0m  Means that conversion rates vary depending on the most ads day (e.g., users who see the most ads on Fridays might convert more than those who see them on Mondays).\n",
      "\n",
      "\u001b[1mMOST ADS HOUR\u001b[0m\n",
      "| • Chi-squared value: 430.77\n",
      "| • p-value (6 decimals): 0.000000\n",
      "| • p-value: 0.000000000000000000000000000000000000000000000000000000000000000000000000000080276298236968\n",
      "| --------------\n",
      "| ✅ SIGNIFICANT: Reject the null hypothesis. There is a significant difference in conversion rates across the variable: most ads hour\n",
      "| • \u001b[1mAnswers question:\u001b[0m  Does the hour where a user saw the most ads impact conversion rates? \n",
      "| • \u001b[1mNull Hypothesis (H₀):\u001b[0m  Conversion rates do not depend on the hour of the most ads. \n",
      "| • \u001b[1mAlternative Hypothesis (H₁):\u001b[0m  Conversion rates do depend on the most ads hour. \n",
      "| • \u001b[1mSignificant result:\u001b[0m  Means that conversion rates differ depending on the hour users see the most ads (e.g., people exposed to ads at 10 AM might convert more than those at 3 AM).\n"
     ]
    }
   ],
   "source": [
    "df_categorical_variables = df[[\"test group\", \"converted\", \"most ads day\", \"most ads hour\"]]\n",
    "\n",
    "alpha = 0.05\n",
    "\n",
    "print(\"[CHAI-SQUARED TEST FOR EACH {VARIABLE} VS. CONVERTED]\")\n",
    "\n",
    "for variable in df_categorical_variables.columns:\n",
    "    if variable != 'converted':\n",
    "        # Create a contingency table (cross-tab)\n",
    "        contingency_table = pd.crosstab(df_categorical_variables[variable],df_categorical_variables[\"converted\"])\n",
    "        \n",
    "        # Chi-squared test\n",
    "        chi2,p, _, _ = chi2_contingency(contingency_table)\n",
    "        \n",
    "        # Results\n",
    "        print(f\"\\n\\033[1m{variable.upper()}\\033[0m\")\n",
    "        print(f\"| • Chi-squared value: {chi2.round(2)}\")\n",
    "        print(f\"| • p-value (6 decimals): {p:.6f}\")\n",
    "        print(f\"| • p-value: {p:.90f}\")\n",
    "        \n",
    "        # Significance check\n",
    "        \n",
    "        if p < alpha:\n",
    "            print(f\"| --------------\\n| ✅ SIGNIFICANT: Reject the null hypothesis. There is a significant difference in conversion rates across the variable: {variable}\")\n",
    "            \n",
    "            if variable == 'test group':\n",
    "                print(f\"| • \\033[1mAnswers question:\\033[0m  Does being in the ad group or PSA group impact conversion rates? \\n\"\n",
    "                    f\"| • \\033[1mNull Hypothesis (H₀):\\033[0m  Conversion rates do not differ between the test groups (ad vs. PSA). \\n\"\n",
    "                    f\"| • \\033[1mAlternative Hypothesis (H₁):\\033[0m  Conversion rates do differ between the test groups. \\n\"\n",
    "                    f\"| • \\033[1mSignificant result:\\033[0m  Means that conversion rates differ between users who saw ads and those who saw PSAs, indicating that ads likely had an impact on conversions.\")\n",
    "                \n",
    "            if variable == 'most ads day':\n",
    "                print(f\"| • \\033[1mAnswers question:\\033[0m  Does the day of the week where a user saw the most ads impact conversion rates? \\n\"\n",
    "                    f\"| • \\033[1mNull Hypothesis (H₀):\\033[0m  Conversion rates do not differ across days. \\n\"\n",
    "                    f\"| • \\033[1mAlternative Hypothesis (H₁):\\033[0m  Conversion rates do differ depending on the most ads day. \\n\"\n",
    "                    f\"| • \\033[1mSignificant result:\\033[0m  Means that conversion rates vary depending on the most ads day (e.g., users who see the most ads on Fridays might convert more than those who see them on Mondays).\")\n",
    "                \n",
    "            if variable == 'most ads hour':\n",
    "                print(f\"| • \\033[1mAnswers question:\\033[0m  Does the hour where a user saw the most ads impact conversion rates? \\n\"\n",
    "                    f\"| • \\033[1mNull Hypothesis (H₀):\\033[0m  Conversion rates do not depend on the hour of the most ads. \\n\"\n",
    "                    f\"| • \\033[1mAlternative Hypothesis (H₁):\\033[0m  Conversion rates do depend on the most ads hour. \\n\"\n",
    "                    f\"| • \\033[1mSignificant result:\\033[0m  Means that conversion rates differ depending on the hour users see the most ads (e.g., people exposed to ads at 10 AM might convert more than those at 3 AM).\")\n",
    "\n",
    "        else:\n",
    "            print(f\"| ❌ NOT SIGNIFICANT: Fail to reject the null hypothesis. There is no significant difference in conversion rates with the following variable: {variable}.\")\n",
    "        "
   ]
  },
  {
   "cell_type": "markdown",
   "metadata": {},
   "source": [
    "<h3> 6.4. [A/B] Numerical variables vs. Converted </h3>\n",
    "\n",
    "**Aim:** To provide greater marketing insights\n",
    "\n",
    "**Insight(s):**\n",
    "\n",
    "- The analysis suggests that there is a **significant difference** in the \"total ads\" between users who converted (`True`) and those who did not (`False`)."
   ]
  },
  {
   "cell_type": "code",
   "execution_count": 27,
   "metadata": {},
   "outputs": [
    {
     "name": "stdout",
     "output_type": "stream",
     "text": [
      "[NORMALITY AND EQUALITY OF VARIANCES ASSUMPTIONS]\n",
      "\n",
      "\u001b[1mShapiro-Wilk Test for Normality (True group)\u001b[0m\n",
      "| • p-value: 0.000000\n",
      "\u001b[1mShapiro-Wilk Test for Normality (False group)\u001b[0m\n",
      "| • p-value: 0.000000\n",
      "\n",
      "\u001b[1mLevene's Test for Equality of Variances\u001b[0m\n",
      "| • p-value: 0.000000\n",
      "\n",
      "[STATISTICAL TEST SELECTION]\n",
      "\n",
      "\u001b[1mMann-Whitney U Test\u001b[0m\n",
      "| • p-value: 0.000000\n",
      "| ✅ SIGNIFICANT: The conversion rates between the 'True' and 'False' groups differ significantly based on the Mann-Whitney U test for medians.\n"
     ]
    }
   ],
   "source": [
    "from scipy.stats import shapiro, levene, ttest_ind, mannwhitneyu\n",
    "\n",
    "alpha = 0.05\n",
    "\n",
    "# Check assumptions\n",
    "print(\"[NORMALITY AND EQUALITY OF VARIANCES ASSUMPTIONS]\")\n",
    "\n",
    "## Normality Assumption\n",
    "shapiro_stat_true, shapiro_p_value_true = shapiro(df[df['converted'] == True][\"total ads\"])\n",
    "shapiro_stat_false, shapiro_p_value_false = shapiro(df[df['converted'] == False][\"total ads\"])\n",
    "\n",
    "print(f\"\\n\\033[1mShapiro-Wilk Test for Normality (True group)\\033[0m\")\n",
    "print(f\"| • p-value: {shapiro_p_value_true:.6f}\")\n",
    "print(f\"\\033[1mShapiro-Wilk Test for Normality (False group)\\033[0m\")\n",
    "print(f\"| • p-value: {shapiro_p_value_false:.6f}\")\n",
    "\n",
    "# Equality of variances assumption\n",
    "levene_stat, levene_p_value = levene(df[df['converted']][\"total ads\"], df[~df['converted']]['total ads'])\n",
    "\n",
    "print(f\"\\n\\033[1mLevene's Test for Equality of Variances\\033[0m\")\n",
    "print(f\"| • p-value: {levene_p_value:.6f}\")\n",
    "\n",
    "# Perform statistical test\n",
    "print(\"\\n[STATISTICAL TEST SELECTION]\")\n",
    "\n",
    "if shapiro_p_value_true > alpha and shapiro_p_value_false > alpha and levene_p_value > alpha:\n",
    "    # Assumptions met - use t-test for means\n",
    "    t_stat, t_p_value = ttest_ind(df[df['converted']]['total ads'],df[~df['converted']]['total ads'])\n",
    "    print(f\"\\n\\033[1mIndependent Two-Sample t-test\\033[0m\")\n",
    "    print(f\"| • p-value: {t_p_value:.6f}\")\n",
    "    print(f\"| ✅ SIGNIFICANT: The conversion rates between the 'True' and 'False' groups differ significantly based on the t-test for means.\")\n",
    "\n",
    "else:\n",
    "    # Assumptions not met - use Mann-Whitney U test for medians\n",
    "    u_stat, u_p_value = mannwhitneyu(df[df['converted']]['total ads'],df[~df['converted']]['total ads'])\n",
    "    print(f\"\\n\\033[1mMann-Whitney U Test\\033[0m\")\n",
    "    print(f\"| • p-value: {u_p_value:.6f}\")\n",
    "    print(f\"| ✅ SIGNIFICANT: The conversion rates between the 'True' and 'False' groups differ significantly based on the Mann-Whitney U test for medians.\")\n"
   ]
  },
  {
   "cell_type": "markdown",
   "metadata": {},
   "source": [
    "<h4> 6.4.1. Interpretation </h4>"
   ]
  },
  {
   "cell_type": "markdown",
   "metadata": {},
   "source": [
    "##### 6.4.1.1 **Shapiro-Wilk Test for Normality** (for both the True and False groups):\n",
    "\n",
    "- **True group p-value = 0.000000**\n",
    "- **False group p-value = 0.000000**\n",
    "\n",
    "**Interpretation**:\n",
    "- The Shapiro-Wilk test is used to check if the data is normally distributed.\n",
    "- The p-value for both the \"True\" and \"False\" groups is **0.000000**, which is **much smaller** than the typical alpha level of 0.05.\n",
    "- **❌ Conclusion**: You **reject the null hypothesis** for both groups. This means that the data for both groups (True and False) are **not normally distributed**.\n",
    "\n",
    "\n",
    "\n",
    "##### 6.4.1.2. **Levene's Test for Equality of Variances**:\n",
    "\n",
    "- **p-value = 0.000000**\n",
    "\n",
    "**Interpretation**:\n",
    "- Levene's test checks if the variances of the two groups are equal.\n",
    "- The p-value is **0.000000**, which is also **much smaller** than 0.05.\n",
    "- **❌ Conclusion**: You **reject the null hypothesis**. This means the variances of the two groups (True and False) are **not equal**.\n",
    "\n",
    "\n",
    "\n",
    "##### 6.4.1.3. **Mann-Whitney U Test**:\n",
    "\n",
    "- **p-value = 0.000000**\n",
    "\n",
    "**Interpretation**:\n",
    "- Since the assumptions of normality and equal variances were not met, the Mann-Whitney U test was used. This test compares the medians of the two groups (True vs. False).\n",
    "- The p-value of **0.000000** indicates a **highly significant difference** between the two groups.\n",
    "- **✅ Conclusion**: There is a significant difference in the distributions (and medians) of the \"total ads\" between the \"True\" and \"False\" groups.\n",
    "\n",
    "\n",
    "\n",
    "##### 6.4.1.4. **Overall Interpretation**:\n",
    "\n",
    "- **Conclusion**\n",
    "  - ✅ The analysis suggests that there is a **significant difference** in the \"total ads\" between users who converted (`True`) and those who did not (`False`).\n",
    "\n",
    "- **Assumptions**:\n",
    "  - The data are **not normally distributed** for either group.\n",
    "  - The **variances are not equal** between the groups.\n",
    "  \n",
    "- **Statistical Test**:\n",
    "  - Because the assumptions for a t-test (normality and equal variances) were not met, you used the **Mann-Whitney U Test**, which is a non-parametric test for comparing two independent groups.\n",
    "  - The p-value for the **Mann-Whitney U Test** is extremely small (0.000000), indicating that there is a **statistically significant difference** in the \"total ads\" between the \"True\" and \"False\" groups.\n"
   ]
  },
  {
   "cell_type": "code",
   "execution_count": 28,
   "metadata": {},
   "outputs": [
    {
     "data": {
      "text/plain": [
       "<Axes: xlabel='converted', ylabel='total ads'>"
      ]
     },
     "execution_count": 28,
     "metadata": {},
     "output_type": "execute_result"
    },
    {
     "data": {
      "image/png": "[encoded data removed]",
      "text/plain": [
       "<Figure size 640x480 with 1 Axes>"
      ]
     },
     "metadata": {},
     "output_type": "display_data"
    }
   ],
   "source": [
    "# [Boxplot] Converted vs. Total adds (< 50)\n",
    "## Converted people on the whole have seen more adds (~28 median) than non-converted people (~10 median)\n",
    "## Under 50 selected to reduce skewness (akin to using the median/mann-whitey U test in our statistical test choice (due to skewed means))\n",
    "\n",
    "sns.boxplot(x=\"converted\", y=\"total ads\", data = df[df[\"total ads\"]<50])"
   ]
  },
  {
   "cell_type": "markdown",
   "metadata": {},
   "source": [
    "<h3> 6.5. Impact of Ads on Conversion Rates </h3>\n",
    "<h5> <b>Question:</b> If the campaign was successful, how much of that success could be attributed to the ads? </h5>"
   ]
  },
  {
   "cell_type": "markdown",
   "metadata": {},
   "source": [
    "> **🚀 Conversion Rate**\n",
    "> \n",
    "> - **Conversion Rate** is the percentage of users who take a desired action (convert) out of the total users who were exposed to a campaign, website, or product.  \n",
    ">\n",
    "> **📊 Formula**\n",
    "> - $\n",
    "> \\text{Conversion Rate} = \\left( \\frac{\\text{Number of Conversions}}{\\text{Total Number of Users (or Visitors)}} \\right) \\times 100\n",
    "> $\n",
    ">\n",
    "> **🤔 Example**\n",
    "> \n",
    "> - If **10,000** people visit a website and **500** of them make a purchase, the conversion rate is:\n",
    ">\n",
    ">    - $\n",
    "> \\text{Conversion Rate} = \\left( \\frac{500}{10,000} \\right) \\times 100 = 5\\%\n",
    "> $\n",
    "> \n",
    "> - This means **5% of visitors converted** (i.e., made a purchase).  \n",
    ">\n",
    "> **🤷‍♂️ Where Is It Used?**\n",
    "> \n",
    "> - Marketing Campaigns: How many users who saw an ad actually bought the product?\n",
    "> - Websites: How many visitors signed up for a newsletter?\n",
    "> - Apps: How many free users upgraded to a paid plan?\n",
    "> - E-commerce: How many people added items to their cart and completed checkout?\n",
    ">\n",
    "> A higher conversion rate means your campaign or website is more effective at convincing users to take action."
   ]
  },
  {
   "cell_type": "markdown",
   "metadata": {},
   "source": [
    "<h4> 6.5.1. Compare Conversion Rates Between Ad Group and PSA Group </h4>\n",
    "\n",
    "**❗️Note:** We should first check that these differences are statistically valid. However, we did this above, so will not repeat this step.\n",
    "\n"
   ]
  },
  {
   "cell_type": "code",
   "execution_count": 29,
   "metadata": {},
   "outputs": [
    {
     "name": "stdout",
     "output_type": "stream",
     "text": [
      "Conversion rate for 'ad' group: 0.0255465596 | 2.5546559637% \n",
      "Conversion rate for 'psa' group: 0.0178541064 | 1.7854106444% \n",
      "Difference in conversion rates (ad - psa): 0.0076924532 | 0.7692453192%\n"
     ]
    }
   ],
   "source": [
    "# Compare Conversion Rates Between Ad Group and PSA Group\n",
    "\n",
    "# Calculate conversion rates for both 'ad' and 'psa' groups\n",
    "ad_group_conversion_rate = df[df['test group'] == 'ad']['converted'].mean()\n",
    "psa_group_conversion_rate = df[df['test group'] == 'psa']['converted'].mean()\n",
    "\n",
    "# Display the conversion rates\n",
    "print(f\"Conversion rate for 'ad' group: {ad_group_conversion_rate:.10f} | {ad_group_conversion_rate*100:.10f}% \")\n",
    "print(f\"Conversion rate for 'psa' group: {psa_group_conversion_rate:.10f} | {psa_group_conversion_rate*100:.10f}% \")\n",
    "\n",
    "# Calculate the difference in conversion rates\n",
    "conversion_rate_diff = ad_group_conversion_rate - psa_group_conversion_rate\n",
    "print(f\"Difference in conversion rates (ad - psa): {conversion_rate_diff:.10f} | {conversion_rate_diff*100:.10f}%\")"
   ]
  },
  {
   "cell_type": "markdown",
   "metadata": {},
   "source": [
    "<h4> 6.5.2. Simple Difference </h4>\n",
    "\n",
    "> **Formula**\n",
    "> \n",
    "> - $\n",
    "> \\text{attribution\\_percentage} = \\left( \\frac{\\text{conversion\\_rate\\_diff}}{\\text{ad\\_group\\_conversion\\_rate}} \\right) \\times 100\n",
    "> $\n",
    "> \n",
    "> - **Sub-formulas**\n",
    "> \n",
    ">   - **conversion_rate_diff** = Difference in conversion rates between the ad group and PSA group\n",
    ">\n",
    ">        - `conversion_rate_diff = ad_group_conversion_rate − psa_group_conversion_rate`\n",
    ">   - **ad_group_conversion_rate** = Conversion rate of users who saw ads\n",
    ">\n",
    "> **What is this formula doing?**\n",
    ">\n",
    "> This formula calculates what percentage of conversions in the ad group can be attributed to the ads themselves.\n",
    ">\n",
    "> > **Step 1: Measure the \"Lift\"**\n",
    ">\n",
    "> The numerator (`conversion_rate_diff`) represents the increase in conversions due to ads.  \n",
    "> \n",
    "> If the ad group converts at 2.5547% and the PSA group converts at 1.7854%, then:\n",
    ">\n",
    "> $ \\text{conversion\\_rate\\_diff} = 2.5547\\% - 1.7854\\% = 0.7692\\% $  \n",
    ">\n",
    "> This 0.7692% represents the extra conversions potentially driven by the ads.\n",
    ">\n",
    "> > **Step 2: Normalize by the Ad Group Conversion Rate**\n",
    ">\n",
    "> Instead of just saying \"ads caused 0.7692% more conversions,\" we want to express this as a proportion of all conversions in the ad group.  \n",
    ">\n",
    "> If 2.5547% of users in the ad group converted, we want to know what fraction of those 2.5547% were due to ads:\n",
    ">\n",
    "> $ \\frac{0.7692\\%}{2.5547\\%} = 0.3011 $  \n",
    ">\n",
    "> > **Step 3: Convert to Percentage**\n",
    ">\n",
    "> Multiply by 100 to get the final attribution percentage:\n",
    ">\n",
    "> $ 0.3011 \\times 100 = 30.11\\% $  \n",
    ">\n",
    "> This means 30.11% of the conversions in the ad group can be attributed to the ads.\n",
    ">\n",
    "> > **Example Calculation**\n",
    ">\n",
    "> | Group      | Conversion Rate |\n",
    "> |------------|-----------------|\n",
    "> | Ad Group   | 2.5547% (0.0255465596)       |\n",
    "> | PSA Group  | 1.7854% (0.0178541064)       |\n",
    ">\n",
    "> $ \\text{conversion\\_rate\\_diff} = 0.0255465596 - 0.0178541064 = 0.0076924532 $  \n",
    ">\n",
    "> $ \\text{attribution\\_percentage} = \\left( \\frac{0.0076924532}{0.0255465596} \\right) \\times 100 = 30.11\\% $  \n",
    ">\n",
    "> So, in this case, **30.11%** of the conversions in the ad group can be attributed to the ads.\n",
    ">\n",
    "> > **Why Does This Work?**\n",
    ">\n",
    "> Instead of just reporting the raw lift (`conversion_rate_diff`), this approach scales it relative to the total conversions in the ad group.  \n",
    ">\n",
    "> This makes it easier to interpret:\n",
    "> - If the attribution percentage is high (e.g., 80%), ads were the primary driver of conversions.\n",
    "> - If the attribution percentage is low (e.g., 10%), many conversions might have happened regardless of the ads.\n",
    "> > **Limitations**\n",
    "> - This formula assumes that all conversion rate differences are due to ads, which might not be entirely true (other external factors could be at play).\n",
    "> - It doesn't account for other potential influences, like seasonality, user intent, or organic trends.\n",
    ">\n",
    "> But as a quick estimation, it's a useful way to measure how much of the ad group’s success can be credited to ads. \n"
   ]
  },
  {
   "cell_type": "code",
   "execution_count": 30,
   "metadata": {},
   "outputs": [
    {
     "name": "stdout",
     "output_type": "stream",
     "text": [
      "\n",
      "Estimated Attribution to Ads: 30.11%\n"
     ]
    }
   ],
   "source": [
    "# Estimate Attribution to Ads (Simple Difference)\n",
    "\n",
    "# Calculate the attribution percentage\n",
    "attribution_percentage = (conversion_rate_diff / ad_group_conversion_rate) * 100\n",
    "\n",
    "# Display the attribution percentage\n",
    "print(f\"\\nEstimated Attribution to Ads: {attribution_percentage:.2f}%\")\n"
   ]
  },
  {
   "cell_type": "markdown",
   "metadata": {},
   "source": [
    "<h4> 6.5.3 Logistic Regression </h4>"
   ]
  },
  {
   "cell_type": "code",
   "execution_count": 31,
   "metadata": {},
   "outputs": [
    {
     "name": "stdout",
     "output_type": "stream",
     "text": [
      "Optimization terminated successfully.\n",
      "         Current function value: 0.117730\n",
      "         Iterations 8\n",
      "\n",
      "Logistic Regression Model:\n",
      "                           Logit Regression Results                           \n",
      "==============================================================================\n",
      "Dep. Variable:              converted   No. Observations:               588101\n",
      "Model:                          Logit   Df Residuals:                   588099\n",
      "Method:                           MLE   Df Model:                            1\n",
      "Date:                Wed, 12 Mar 2025   Pseudo R-squ.:               0.0004342\n",
      "Time:                        09:49:59   Log-Likelihood:                -69237.\n",
      "converged:                       True   LL-Null:                       -69267.\n",
      "Covariance Type:            nonrobust   LLR p-value:                 8.800e-15\n",
      "===============================================================================\n",
      "                  coef    std err          z      P>|z|      [0.025      0.975]\n",
      "-------------------------------------------------------------------------------\n",
      "Intercept      -4.0075      0.049    -81.393      0.000      -4.104      -3.911\n",
      "ad_exposure     0.3661      0.050      7.329      0.000       0.268       0.464\n",
      "===============================================================================\n"
     ]
    }
   ],
   "source": [
    "import statsmodels.api as sm\n",
    "from statsmodels.formula.api import logit\n",
    "\n",
    "# Ensure that 'converted' is numeric (1 for True, 0 for False)\n",
    "df['converted'] = df['converted'].astype(int)\n",
    "\n",
    "# Create a binary column for ad exposure (1 for ad, 0 for psa)\n",
    "df['ad_exposure'] = (df['test group'] == 'ad').astype(int)\n",
    "\n",
    "# Logistic regression model (ad_exposure vs. converted)\n",
    "model = logit(\"converted ~ ad_exposure\", data=df).fit()\n",
    "\n",
    "# Display the regression results\n",
    "print(\"\\nLogistic Regression Model:\")\n",
    "print(model.summary())\n",
    "\n",
    "# The coefficient for 'ad_exposure' will indicate the impact of ads exposure on the conversion probability\n"
   ]
  },
  {
   "cell_type": "markdown",
   "metadata": {},
   "source": [
    "**Model Summary**\n",
    "\n",
    "- **Intercept**: The intercept value is -4.0075, which represents the log-odds of conversion when `ad_exposure = 0` (i.e., when users are in the PSA group). A negative value indicates that the odds of conversion for the PSA group are lower than the baseline.\n",
    "  \n",
    "- **ad_exposure**: The coefficient for `ad_exposure` is 0.3661. This means that when a user is in the \"ad\" group (vs. the PSA group), the log-odds of conversion increase by 0.3661. In other words, users who are exposed to ads are more likely to convert compared to users who see PSAs.\n",
    "\n",
    "**Statistical Significance**\n",
    "\n",
    "- **p-value for ad_exposure**: The p-value for `ad_exposure` is 0.000, which is less than 0.05. This indicates that the result is statistically significant, meaning that there is a significant relationship between ad exposure and conversion rates. In other words, ad exposure has a measurable impact on conversion likelihood."
   ]
  },
  {
   "cell_type": "markdown",
   "metadata": {},
   "source": [
    "<h4> 6.5.4 Odds Ratio </h4>\n",
    "\n",
    "You can also interpret the `ad_exposure` coefficient as an odds ratio. To do this, you exponentiate the coefficient:\n",
    "\n",
    "> An odds ratio (OR) is a measure used in statistics to quantify the strength of association or non-randomness between two binary (dichotomous) outcomes.\n",
    ">\n",
    "> Such as whether someone converted or not after being exposed to an ad. \n",
    ">\n",
    "> It compares the odds of an event happening in one group to the odds of the same event happening in another group.\n",
    ">\n",
    "> **General Odds Ratio Formula:**\n",
    ">\n",
    "> - $ \\text{Odds} = \\left( \\frac{\\text{Probability of event}}{\\text{Probability of non-event}} \\right) $\n",
    "> \n",
    "> or alternatively:\n",
    "> \n",
    "> - $ \\text{Odds} = \\left( \\frac{\\text{Probability of non-event}}{\\text{Probability of event}} \\right) $\n",
    "> \n",
    "> **Odds Ratio Formula using a co-efficient**\n",
    ">\n",
    "> - $ \\text{Odds Ratio (OR)} = e^{\\beta_1} $\n",
    ">  \n",
    ">  In our case:\n",
    ">  - $ \\text{Odds Ratio} = e^{0.3661} = 1.442 $"
   ]
  },
  {
   "cell_type": "code",
   "execution_count": 33,
   "metadata": {},
   "outputs": [
    {
     "name": "stdout",
     "output_type": "stream",
     "text": [
      "Odds Ratio for ad_exposure: 1.442\n"
     ]
    }
   ],
   "source": [
    "# Calculate Odds Ratio\n",
    "odds_ratio = np.exp(model.params['ad_exposure'])\n",
    "print(f\"Odds Ratio for ad_exposure: {odds_ratio:.3f}\")"
   ]
  },
  {
   "cell_type": "markdown",
   "metadata": {},
   "source": [
    "**Interpretation of Odds Ratio**\n",
    "\n",
    "- The Odds Ratio for ad_exposure is 1.442. \n",
    "- This means that users exposed to ads are 44.2% more likely to convert compared to users who are exposed to PSAs.\n",
    "- In other words, the presence of ads significantly increases the likelihood of conversion relative to seeing a PSA."
   ]
  },
  {
   "cell_type": "markdown",
   "metadata": {},
   "source": [
    "<h2> 7. Conclusion </h2>\n",
    "\n",
    "- **Lift:** 0.75% difference between the control group and the ad group.\n",
    "- **Attribution Percentage:** 30% increase in conversions (assuming ads are the only influencing factor).\n",
    "- **Odds ratio:** Odds of conversion are 44% higher for those exposed to ads."
   ]
  }
 ],
 "metadata": {
  "kernelspec": {
   "display_name": "base",
   "language": "python",
   "name": "python3"
  },
  "language_info": {
   "codemirror_mode": {
    "name": "ipython",
    "version": 3
   },
   "file_extension": ".py",
   "mimetype": "text/x-python",
   "name": "python",
   "nbconvert_exporter": "python",
   "pygments_lexer": "ipython3",
   "version": "3.11.7"
  }
 },
 "nbformat": 4,
 "nbformat_minor": 2
}
